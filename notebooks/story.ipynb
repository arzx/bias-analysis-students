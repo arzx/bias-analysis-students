{
 "cells": [
  {
   "cell_type": "markdown",
   "metadata": {},
   "source": [
    "# Bias Analysis towards Fair AI in Education"
   ]
  },
  {
   "cell_type": "markdown",
   "metadata": {},
   "source": [
    "Team: Multi-Agents (Artur Ganzha, Detijon Lushaj, Lasse Müller)"
   ]
  },
  {
   "cell_type": "markdown",
   "metadata": {},
   "source": [
    "In this prototype, we showcased the correlation between student performance based on their ethnicity/race background and their chances of respective milestones. Additionally we analyzed the influence of the parental educational background on the students performance. \n",
    "This was done by utilizing ML models that were able to detect the underlying pattern in the data. Multiple models were compared in their capability to predict students performances based on their ethnicity, gender and parental education.\n",
    "\n",
    "Problem Statement\n",
    "\n",
    "    Challenge: Identify potential inequalities in student performance based on race/ethnicity, parental education and gender.\n",
    "\n",
    "    Consequences: Addressing unfair opportunities is crucial for creating a more equitable learning environment.\n",
    "    \n",
    "    Target Group: Educators, researchers, and students interested in educational equity.\n",
    "\n"
   ]
  },
  {
   "cell_type": "markdown",
   "metadata": {},
   "source": [
    "### Goals\n",
    "Our goal was to showcase the inequality of chances for different groups by showing the performance of existing data entries on different classes and prediction of new introductions. The potential impact of that is to motivate educators to investigate their own situation.\n",
    "\n",
    "Emerging questions from the problem statement:\n",
    "\n",
    "- Are there disparities in performance between each inspected group?\n",
    "- Is there any reason of doubt that the resulting correlations could be assumed of unfair chances?\n",
    "- How can educators use these findings to create fairer educational opportunities and reduce biases?\n"
   ]
  },
  {
   "cell_type": "markdown",
   "metadata": {},
   "source": [
    "### Methodology\n",
    "\n",
    "The overall project was divided in four steps. The implementation details are linked below.\n",
    "1. Exploratory data analysis\n",
    "   - Understand the datastructure\n",
    "   - Generate plots to highlight correlations in the original data\n",
    "2. Dataset preparation\n",
    "   - Ensure no data imbalance hinders the results\n",
    "3. Model selection and implementation\n",
    "   - Random Forests\n",
    "   - LinearRegression\n",
    "   - Neural Network\n",
    "4. Data presentation\n",
    "   - Present data in a coherent and easy way, adjusted to the target group"
   ]
  },
  {
   "cell_type": "markdown",
   "metadata": {},
   "source": []
  }
 ],
 "metadata": {
  "language_info": {
   "name": "python"
  }
 },
 "nbformat": 4,
 "nbformat_minor": 2
}
